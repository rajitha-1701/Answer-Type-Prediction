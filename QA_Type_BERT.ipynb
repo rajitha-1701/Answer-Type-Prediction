{
  "cells": [
    {
      "cell_type": "markdown",
      "metadata": {
        "id": "view-in-github",
        "colab_type": "text"
      },
      "source": [
        "<a href=\"https://colab.research.google.com/github/rajitha-1701/Answer-Type-Prediction/blob/main/QA_Type_BERT.ipynb\" target=\"_parent\"><img src=\"https://colab.research.google.com/assets/colab-badge.svg\" alt=\"Open In Colab\"/></a>"
      ]
    },
    {
      "cell_type": "code",
      "execution_count": 1,
      "metadata": {
        "id": "rE-ty5DoOWi2"
      },
      "outputs": [],
      "source": [
        "import pandas as pd\n",
        "df = pd.read_excel('Train.xlsx')\n",
        "df_test = pd.read_excel('testFinal.xlsx')"
      ]
    },
    {
      "cell_type": "code",
      "execution_count": 2,
      "metadata": {
        "colab": {
          "base_uri": "https://localhost:8080/",
          "height": 206
        },
        "id": "Zf8T98q563L4",
        "outputId": "f53964c4-9e4e-445e-aa5c-84c4059a25eb"
      },
      "outputs": [
        {
          "output_type": "execute_result",
          "data": {
            "text/html": [
              "<div>\n",
              "<style scoped>\n",
              "    .dataframe tbody tr th:only-of-type {\n",
              "        vertical-align: middle;\n",
              "    }\n",
              "\n",
              "    .dataframe tbody tr th {\n",
              "        vertical-align: top;\n",
              "    }\n",
              "\n",
              "    .dataframe thead th {\n",
              "        text-align: right;\n",
              "    }\n",
              "</style>\n",
              "<table border=\"1\" class=\"dataframe\">\n",
              "  <thead>\n",
              "    <tr style=\"text-align: right;\">\n",
              "      <th></th>\n",
              "      <th>id</th>\n",
              "      <th>question</th>\n",
              "      <th>qtype</th>\n",
              "    </tr>\n",
              "  </thead>\n",
              "  <tbody>\n",
              "    <tr>\n",
              "      <th>0</th>\n",
              "      <td>19719</td>\n",
              "      <td>What periodical literature does delta air line...</td>\n",
              "      <td>publication</td>\n",
              "    </tr>\n",
              "    <tr>\n",
              "      <th>1</th>\n",
              "      <td>15554</td>\n",
              "      <td>Who is the child of ranavalona i's husband?</td>\n",
              "      <td>person</td>\n",
              "    </tr>\n",
              "    <tr>\n",
              "      <th>2</th>\n",
              "      <td>974</td>\n",
              "      <td>Is it true jeff_bridges occupation lane chandl...</td>\n",
              "      <td>boolean</td>\n",
              "    </tr>\n",
              "    <tr>\n",
              "      <th>3</th>\n",
              "      <td>27610</td>\n",
              "      <td>Which is the operating income for qantas?</td>\n",
              "      <td>number</td>\n",
              "    </tr>\n",
              "    <tr>\n",
              "      <th>4</th>\n",
              "      <td>24488</td>\n",
              "      <td>Which cola starts with the letter p</td>\n",
              "      <td>soft drink</td>\n",
              "    </tr>\n",
              "  </tbody>\n",
              "</table>\n",
              "</div>"
            ],
            "text/plain": [
              "      id                                           question        qtype\n",
              "0  19719  What periodical literature does delta air line...  publication\n",
              "1  15554        Who is the child of ranavalona i's husband?       person\n",
              "2    974  Is it true jeff_bridges occupation lane chandl...      boolean\n",
              "3  27610          Which is the operating income for qantas?       number\n",
              "4  24488                Which cola starts with the letter p   soft drink"
            ]
          },
          "metadata": {},
          "execution_count": 2
        }
      ],
      "source": [
        "df = df.iloc[: , 1:]\n",
        "df_test = df_test.iloc[: , 1:]\n",
        "df.head()"
      ]
    },
    {
      "cell_type": "code",
      "execution_count": 3,
      "metadata": {
        "id": "dMNWPk6V7g4H"
      },
      "outputs": [],
      "source": [
        "df['question'] = df['question'].str.lower()\n",
        "df_test['question'] = df_test['question'].str.lower()"
      ]
    },
    {
      "cell_type": "code",
      "execution_count": 4,
      "metadata": {
        "colab": {
          "base_uri": "https://localhost:8080/",
          "height": 206
        },
        "id": "ysJ-vIqp8W19",
        "outputId": "99fb43ee-ae03-42cc-aefe-85b700b04631"
      },
      "outputs": [
        {
          "output_type": "execute_result",
          "data": {
            "text/html": [
              "<div>\n",
              "<style scoped>\n",
              "    .dataframe tbody tr th:only-of-type {\n",
              "        vertical-align: middle;\n",
              "    }\n",
              "\n",
              "    .dataframe tbody tr th {\n",
              "        vertical-align: top;\n",
              "    }\n",
              "\n",
              "    .dataframe thead th {\n",
              "        text-align: right;\n",
              "    }\n",
              "</style>\n",
              "<table border=\"1\" class=\"dataframe\">\n",
              "  <thead>\n",
              "    <tr style=\"text-align: right;\">\n",
              "      <th></th>\n",
              "      <th>id</th>\n",
              "      <th>question</th>\n",
              "      <th>qtype</th>\n",
              "    </tr>\n",
              "  </thead>\n",
              "  <tbody>\n",
              "    <tr>\n",
              "      <th>0</th>\n",
              "      <td>19719</td>\n",
              "      <td>what periodical literature does delta air line...</td>\n",
              "      <td>publication</td>\n",
              "    </tr>\n",
              "    <tr>\n",
              "      <th>1</th>\n",
              "      <td>15554</td>\n",
              "      <td>who is the child of ranavalona i's husband?</td>\n",
              "      <td>person</td>\n",
              "    </tr>\n",
              "    <tr>\n",
              "      <th>2</th>\n",
              "      <td>974</td>\n",
              "      <td>is it true jeff_bridges occupation lane chandl...</td>\n",
              "      <td>boolean</td>\n",
              "    </tr>\n",
              "    <tr>\n",
              "      <th>3</th>\n",
              "      <td>27610</td>\n",
              "      <td>which is the operating income for qantas?</td>\n",
              "      <td>number</td>\n",
              "    </tr>\n",
              "    <tr>\n",
              "      <th>4</th>\n",
              "      <td>24488</td>\n",
              "      <td>which cola starts with the letter p</td>\n",
              "      <td>soft drink</td>\n",
              "    </tr>\n",
              "  </tbody>\n",
              "</table>\n",
              "</div>"
            ],
            "text/plain": [
              "      id                                           question        qtype\n",
              "0  19719  what periodical literature does delta air line...  publication\n",
              "1  15554        who is the child of ranavalona i's husband?       person\n",
              "2    974  is it true jeff_bridges occupation lane chandl...      boolean\n",
              "3  27610          which is the operating income for qantas?       number\n",
              "4  24488                which cola starts with the letter p   soft drink"
            ]
          },
          "metadata": {},
          "execution_count": 4
        }
      ],
      "source": [
        " df.head()"
      ]
    },
    {
      "cell_type": "code",
      "execution_count": 5,
      "metadata": {
        "colab": {
          "base_uri": "https://localhost:8080/"
        },
        "id": "MRFmeynEADQK",
        "outputId": "00add509-9c7a-48e1-cf8e-250197d5ff63"
      },
      "outputs": [
        {
          "output_type": "execute_result",
          "data": {
            "text/plain": [
              "id           0\n",
              "question    16\n",
              "qtype        0\n",
              "dtype: int64"
            ]
          },
          "metadata": {},
          "execution_count": 5
        }
      ],
      "source": [
        "df_test.isna().sum()"
      ]
    },
    {
      "cell_type": "code",
      "source": [
        "df.isna().sum()"
      ],
      "metadata": {
        "colab": {
          "base_uri": "https://localhost:8080/"
        },
        "id": "3I5lzPZmxXRz",
        "outputId": "8078ae7c-6b77-422c-c1cf-a50d8f8b14fd"
      },
      "execution_count": 6,
      "outputs": [
        {
          "output_type": "execute_result",
          "data": {
            "text/plain": [
              "id          0\n",
              "question    0\n",
              "qtype       0\n",
              "dtype: int64"
            ]
          },
          "metadata": {},
          "execution_count": 6
        }
      ]
    },
    {
      "cell_type": "code",
      "execution_count": 7,
      "metadata": {
        "id": "rujf8rzSAxi2"
      },
      "outputs": [],
      "source": [
        "df_test = df_test[df_test['question'].notna()]"
      ]
    },
    {
      "cell_type": "code",
      "source": [
        "df['qtype'].value_counts()"
      ],
      "metadata": {
        "colab": {
          "base_uri": "https://localhost:8080/"
        },
        "id": "Kk_vn9t-xecW",
        "outputId": "a5bbbc73-6a54-4514-d57f-8d271023e249"
      },
      "execution_count": 8,
      "outputs": [
        {
          "output_type": "execute_result",
          "data": {
            "text/plain": [
              "boolean                    2139\n",
              "string                     2086\n",
              "date                       1301\n",
              "number                     1044\n",
              "person                      731\n",
              "                           ... \n",
              "train                         1\n",
              "airship                       1\n",
              "city council                  1\n",
              "constellation                 1\n",
              "phonetic writing system       1\n",
              "Name: qtype, Length: 1682, dtype: int64"
            ]
          },
          "metadata": {},
          "execution_count": 8
        }
      ]
    },
    {
      "cell_type": "code",
      "source": [
        "df_test['qtype'].value_counts()"
      ],
      "metadata": {
        "colab": {
          "base_uri": "https://localhost:8080/"
        },
        "id": "_LL82gU_xqOn",
        "outputId": "27588e7f-a457-4214-f187-f27dbe7bd9d3"
      },
      "execution_count": 9,
      "outputs": [
        {
          "output_type": "execute_result",
          "data": {
            "text/plain": [
              "boolean                                           530\n",
              "string                                            501\n",
              "date                                              327\n",
              "number                                            277\n",
              "omnivore                                          276\n",
              "                                                 ... \n",
              "non-governmental organization                       1\n",
              "military operation                                  1\n",
              "pet                                                 1\n",
              "aspect of history                                   1\n",
              "organization established by the United Nations      1\n",
              "Name: qtype, Length: 768, dtype: int64"
            ]
          },
          "metadata": {},
          "execution_count": 9
        }
      ]
    },
    {
      "cell_type": "code",
      "execution_count": 10,
      "metadata": {
        "colab": {
          "base_uri": "https://localhost:8080/",
          "height": 363
        },
        "id": "SBnpEBDXp4p3",
        "outputId": "1a5a4e19-4ee3-4277-93b8-cd224b0da40e"
      },
      "outputs": [
        {
          "output_type": "execute_result",
          "data": {
            "text/html": [
              "<div>\n",
              "<style scoped>\n",
              "    .dataframe tbody tr th:only-of-type {\n",
              "        vertical-align: middle;\n",
              "    }\n",
              "\n",
              "    .dataframe tbody tr th {\n",
              "        vertical-align: top;\n",
              "    }\n",
              "\n",
              "    .dataframe thead th {\n",
              "        text-align: right;\n",
              "    }\n",
              "</style>\n",
              "<table border=\"1\" class=\"dataframe\">\n",
              "  <thead>\n",
              "    <tr style=\"text-align: right;\">\n",
              "      <th></th>\n",
              "      <th>id</th>\n",
              "      <th>question</th>\n",
              "      <th>qtype</th>\n",
              "      <th>labels</th>\n",
              "    </tr>\n",
              "  </thead>\n",
              "  <tbody>\n",
              "    <tr>\n",
              "      <th>0</th>\n",
              "      <td>19719</td>\n",
              "      <td>what periodical literature does delta air line...</td>\n",
              "      <td>publication</td>\n",
              "      <td>1</td>\n",
              "    </tr>\n",
              "    <tr>\n",
              "      <th>1</th>\n",
              "      <td>15554</td>\n",
              "      <td>who is the child of ranavalona i's husband?</td>\n",
              "      <td>person</td>\n",
              "      <td>2</td>\n",
              "    </tr>\n",
              "    <tr>\n",
              "      <th>2</th>\n",
              "      <td>974</td>\n",
              "      <td>is it true jeff_bridges occupation lane chandl...</td>\n",
              "      <td>boolean</td>\n",
              "      <td>3</td>\n",
              "    </tr>\n",
              "    <tr>\n",
              "      <th>3</th>\n",
              "      <td>27610</td>\n",
              "      <td>which is the operating income for qantas?</td>\n",
              "      <td>number</td>\n",
              "      <td>4</td>\n",
              "    </tr>\n",
              "    <tr>\n",
              "      <th>4</th>\n",
              "      <td>24488</td>\n",
              "      <td>which cola starts with the letter p</td>\n",
              "      <td>soft drink</td>\n",
              "      <td>5</td>\n",
              "    </tr>\n",
              "    <tr>\n",
              "      <th>5</th>\n",
              "      <td>18423</td>\n",
              "      <td>is the right ascension of malin 1 less than 15...</td>\n",
              "      <td>boolean</td>\n",
              "      <td>3</td>\n",
              "    </tr>\n",
              "    <tr>\n",
              "      <th>6</th>\n",
              "      <td>21845</td>\n",
              "      <td>what is the complete list of records released ...</td>\n",
              "      <td>collection</td>\n",
              "      <td>6</td>\n",
              "    </tr>\n",
              "    <tr>\n",
              "      <th>7</th>\n",
              "      <td>26800</td>\n",
              "      <td>what's mary lou retton's international olympic...</td>\n",
              "      <td>string</td>\n",
              "      <td>7</td>\n",
              "    </tr>\n",
              "    <tr>\n",
              "      <th>8</th>\n",
              "      <td>14923</td>\n",
              "      <td>who won the prize at the sequel of the 1885 wi...</td>\n",
              "      <td>person</td>\n",
              "      <td>2</td>\n",
              "    </tr>\n",
              "    <tr>\n",
              "      <th>9</th>\n",
              "      <td>18165</td>\n",
              "      <td>is it true that the carbon footprint of the ip...</td>\n",
              "      <td>boolean</td>\n",
              "      <td>3</td>\n",
              "    </tr>\n",
              "  </tbody>\n",
              "</table>\n",
              "</div>"
            ],
            "text/plain": [
              "      id  ... labels\n",
              "0  19719  ...      1\n",
              "1  15554  ...      2\n",
              "2    974  ...      3\n",
              "3  27610  ...      4\n",
              "4  24488  ...      5\n",
              "5  18423  ...      3\n",
              "6  21845  ...      6\n",
              "7  26800  ...      7\n",
              "8  14923  ...      2\n",
              "9  18165  ...      3\n",
              "\n",
              "[10 rows x 4 columns]"
            ]
          },
          "metadata": {},
          "execution_count": 10
        }
      ],
      "source": [
        "df['labels'] = pd.factorize(df.qtype)[0] + 1\n",
        "df.head(10)"
      ]
    },
    {
      "cell_type": "code",
      "source": [
        "df['labels'].max()"
      ],
      "metadata": {
        "colab": {
          "base_uri": "https://localhost:8080/"
        },
        "id": "vH4hxix1fTZ5",
        "outputId": "0086cea0-14a6-48b7-baec-3b1b686d4f0c"
      },
      "execution_count": 11,
      "outputs": [
        {
          "output_type": "execute_result",
          "data": {
            "text/plain": [
              "1682"
            ]
          },
          "metadata": {},
          "execution_count": 11
        }
      ]
    },
    {
      "cell_type": "code",
      "execution_count": 12,
      "metadata": {
        "colab": {
          "base_uri": "https://localhost:8080/"
        },
        "id": "Fpz4vu_Zdrtm",
        "outputId": "ecdd04b0-e535-4ed2-8d9a-788173b2a4bf"
      },
      "outputs": [
        {
          "output_type": "stream",
          "name": "stdout",
          "text": [
            "There are 1 GPU(s) available.\n",
            "Device name: Tesla K80\n"
          ]
        }
      ],
      "source": [
        "import torch\n",
        "if torch.cuda.is_available():       \n",
        "    device = torch.device(\"cuda\")\n",
        "    print(f'There are {torch.cuda.device_count()} GPU(s) available.')\n",
        "    print('Device name:', torch.cuda.get_device_name(0))\n",
        "\n",
        "else:\n",
        "    print('No GPU available, using the CPU instead.')\n",
        "    device = torch.device(\"cpu\")"
      ]
    },
    {
      "cell_type": "code",
      "execution_count": 13,
      "metadata": {
        "colab": {
          "base_uri": "https://localhost:8080/"
        },
        "id": "CvJlqqzAuEHH",
        "outputId": "701f07b8-55cb-485d-db1f-3b7a231d141a"
      },
      "outputs": [
        {
          "output_type": "stream",
          "name": "stdout",
          "text": [
            "Requirement already satisfied: transformers in /usr/local/lib/python3.7/dist-packages (4.13.0)\n",
            "Requirement already satisfied: importlib-metadata in /usr/local/lib/python3.7/dist-packages (from transformers) (4.8.2)\n",
            "Requirement already satisfied: tokenizers<0.11,>=0.10.1 in /usr/local/lib/python3.7/dist-packages (from transformers) (0.10.3)\n",
            "Requirement already satisfied: tqdm>=4.27 in /usr/local/lib/python3.7/dist-packages (from transformers) (4.62.3)\n",
            "Requirement already satisfied: pyyaml>=5.1 in /usr/local/lib/python3.7/dist-packages (from transformers) (6.0)\n",
            "Requirement already satisfied: filelock in /usr/local/lib/python3.7/dist-packages (from transformers) (3.4.0)\n",
            "Requirement already satisfied: packaging>=20.0 in /usr/local/lib/python3.7/dist-packages (from transformers) (21.3)\n",
            "Requirement already satisfied: sacremoses in /usr/local/lib/python3.7/dist-packages (from transformers) (0.0.46)\n",
            "Requirement already satisfied: numpy>=1.17 in /usr/local/lib/python3.7/dist-packages (from transformers) (1.19.5)\n",
            "Requirement already satisfied: regex!=2019.12.17 in /usr/local/lib/python3.7/dist-packages (from transformers) (2019.12.20)\n",
            "Requirement already satisfied: huggingface-hub<1.0,>=0.1.0 in /usr/local/lib/python3.7/dist-packages (from transformers) (0.2.1)\n",
            "Requirement already satisfied: requests in /usr/local/lib/python3.7/dist-packages (from transformers) (2.23.0)\n",
            "Requirement already satisfied: typing-extensions>=3.7.4.3 in /usr/local/lib/python3.7/dist-packages (from huggingface-hub<1.0,>=0.1.0->transformers) (3.10.0.2)\n",
            "Requirement already satisfied: pyparsing!=3.0.5,>=2.0.2 in /usr/local/lib/python3.7/dist-packages (from packaging>=20.0->transformers) (3.0.6)\n",
            "Requirement already satisfied: zipp>=0.5 in /usr/local/lib/python3.7/dist-packages (from importlib-metadata->transformers) (3.6.0)\n",
            "Requirement already satisfied: idna<3,>=2.5 in /usr/local/lib/python3.7/dist-packages (from requests->transformers) (2.10)\n",
            "Requirement already satisfied: urllib3!=1.25.0,!=1.25.1,<1.26,>=1.21.1 in /usr/local/lib/python3.7/dist-packages (from requests->transformers) (1.24.3)\n",
            "Requirement already satisfied: certifi>=2017.4.17 in /usr/local/lib/python3.7/dist-packages (from requests->transformers) (2021.10.8)\n",
            "Requirement already satisfied: chardet<4,>=3.0.2 in /usr/local/lib/python3.7/dist-packages (from requests->transformers) (3.0.4)\n",
            "Requirement already satisfied: joblib in /usr/local/lib/python3.7/dist-packages (from sacremoses->transformers) (1.1.0)\n",
            "Requirement already satisfied: six in /usr/local/lib/python3.7/dist-packages (from sacremoses->transformers) (1.15.0)\n",
            "Requirement already satisfied: click in /usr/local/lib/python3.7/dist-packages (from sacremoses->transformers) (7.1.2)\n"
          ]
        }
      ],
      "source": [
        "!pip install transformers"
      ]
    },
    {
      "cell_type": "code",
      "execution_count": 14,
      "metadata": {
        "id": "fHuMTA5JboUm"
      },
      "outputs": [],
      "source": [
        "df_new = df[['qtype', 'labels']].copy()\n",
        "df_new.head(10)\n",
        "df_new.to_excel(\"mapping.xlsx\")"
      ]
    },
    {
      "cell_type": "code",
      "execution_count": 15,
      "metadata": {
        "id": "pafbEWn1WC95"
      },
      "outputs": [],
      "source": [
        "questions = df.question.values\n",
        "ques_type = df.labels.values"
      ]
    },
    {
      "cell_type": "code",
      "execution_count": 16,
      "metadata": {
        "colab": {
          "base_uri": "https://localhost:8080/"
        },
        "id": "hrARTGOqRvov",
        "outputId": "7d2acc39-6889-43f6-fefd-3aef7f66733d"
      },
      "outputs": [
        {
          "output_type": "stream",
          "name": "stdout",
          "text": [
            "Maximum Length:  187\n"
          ]
        }
      ],
      "source": [
        "from transformers import BertTokenizer\n",
        "tokenizer = BertTokenizer.from_pretrained('bert-base-uncased', do_lower_case=True)\n",
        "import numpy as np\n",
        "ques_combined = np.concatenate([df.question.values, df_test.question.values])\n",
        "# print(qtypes_combined)\n",
        "enc_comb = [tokenizer.encode(q, add_special_tokens=True) for q in ques_combined]\n",
        "print(\"Maximum Length: \", max([len(sen) for sen in enc_comb]))"
      ]
    },
    {
      "cell_type": "code",
      "execution_count": 17,
      "metadata": {
        "id": "5YqmjIFPv4J5"
      },
      "outputs": [],
      "source": [
        "import re\n",
        "import string\n",
        "# Create a function to tokenize a set of texts\n",
        "#As max length of tokenised IDs is 187, we consider to do padding of length of tokens = 192\n",
        "def preprocessing_for_bert(data):\n",
        "   \n",
        "    # Create empty lists to store outputs\n",
        "    input_ids = []\n",
        "    attention_masks = []\n",
        "    \n",
        "    \n",
        "    for ques in data:\n",
        "      ques = re.sub('[%s]' % re.escape(string.punctuation), '', str(ques)) \n",
        "      encoded_ques = tokenizer.encode_plus(\n",
        "            text=ques,  \n",
        "            add_special_tokens=True,        \n",
        "            max_length=192,                  \n",
        "            padding='max_length',         \n",
        "            return_tensors='pt',           \n",
        "            return_attention_mask=True      \n",
        "            )\n",
        "        \n",
        "        # Add the outputs to the lists\n",
        "      input_ids.append(encoded_ques.get('input_ids'))\n",
        "      attention_masks.append(encoded_ques.get('attention_mask'))\n",
        "\n",
        "    input_ids = torch.cat(input_ids, dim=0)\n",
        "    attention_masks = torch.cat(attention_masks, dim=0)\n",
        "\n",
        "\n",
        "    return input_ids, attention_masks"
      ]
    },
    {
      "cell_type": "code",
      "execution_count": 18,
      "metadata": {
        "id": "VCgYDNzvF0oD"
      },
      "outputs": [],
      "source": [
        "\n",
        "import torch\n",
        "from sklearn.model_selection import train_test_split\n",
        "\n",
        "X_train, X_val, Y_train, Y_val = train_test_split(questions, torch.tensor(ques_type), random_state=6500, test_size=0.1)\n"
      ]
    },
    {
      "cell_type": "code",
      "execution_count": 19,
      "metadata": {
        "colab": {
          "base_uri": "https://localhost:8080/"
        },
        "id": "FoyambRG0nAy",
        "outputId": "ce42e932-fd55-4aa4-98ee-6d41dd58eb03"
      },
      "outputs": [
        {
          "output_type": "stream",
          "name": "stdout",
          "text": [
            "Original:  what periodical literature does delta air lines use as a moutpiece?\n",
            "Token IDs:  [tensor([  101,  2054, 21802,  3906,  2515,  7160,  2250,  3210,  2224,  2004,\n",
            "         1037,  9587,  4904, 11198,   102,     0,     0,     0,     0,     0,\n",
            "            0,     0,     0,     0,     0,     0,     0,     0,     0,     0,\n",
            "            0,     0,     0,     0,     0,     0,     0,     0,     0,     0,\n",
            "            0,     0,     0,     0,     0,     0,     0,     0,     0,     0,\n",
            "            0,     0,     0,     0,     0,     0,     0,     0,     0,     0,\n",
            "            0,     0,     0,     0,     0,     0,     0,     0,     0,     0,\n",
            "            0,     0,     0,     0,     0,     0,     0,     0,     0,     0,\n",
            "            0,     0,     0,     0,     0,     0,     0,     0,     0,     0,\n",
            "            0,     0,     0,     0,     0,     0,     0,     0,     0,     0,\n",
            "            0,     0,     0,     0,     0,     0,     0,     0,     0,     0,\n",
            "            0,     0,     0,     0,     0,     0,     0,     0,     0,     0,\n",
            "            0,     0,     0,     0,     0,     0,     0,     0,     0,     0,\n",
            "            0,     0,     0,     0,     0,     0,     0,     0,     0,     0,\n",
            "            0,     0,     0,     0,     0,     0,     0,     0,     0,     0,\n",
            "            0,     0,     0,     0,     0,     0,     0,     0,     0,     0,\n",
            "            0,     0,     0,     0,     0,     0,     0,     0,     0,     0,\n",
            "            0,     0,     0,     0,     0,     0,     0,     0,     0,     0,\n",
            "            0,     0,     0,     0,     0,     0,     0,     0,     0,     0,\n",
            "            0,     0])]\n"
          ]
        }
      ],
      "source": [
        "# from keras.preprocessing.sequence import pad_sequences\n",
        "\n",
        "\n",
        "token_ids = list(preprocessing_for_bert([questions[0]])[0])\n",
        "print('Original: ', questions[0])\n",
        "print('Token IDs: ', token_ids)\n",
        "\n",
        "# Run function `preprocessing_for_bert` on the train set and the validation set\n",
        "# print('Tokenizing data...')\n",
        "train_inputs, train_masks = preprocessing_for_bert(X_train)\n",
        "val_inputs, val_masks = preprocessing_for_bert(X_val)"
      ]
    },
    {
      "cell_type": "code",
      "execution_count": 20,
      "metadata": {
        "colab": {
          "base_uri": "https://localhost:8080/"
        },
        "id": "eM7Q9LniH5z_",
        "outputId": "76d79aec-a099-42ca-f8ad-e99a85bce1cd"
      },
      "outputs": [
        {
          "output_type": "stream",
          "name": "stderr",
          "text": [
            "/usr/local/lib/python3.7/dist-packages/ipykernel_launcher.py:3: UserWarning: To copy construct from a tensor, it is recommended to use sourceTensor.clone().detach() or sourceTensor.clone().detach().requires_grad_(True), rather than torch.tensor(sourceTensor).\n",
            "  This is separate from the ipykernel package so we can avoid doing imports until\n",
            "/usr/local/lib/python3.7/dist-packages/ipykernel_launcher.py:4: UserWarning: To copy construct from a tensor, it is recommended to use sourceTensor.clone().detach() or sourceTensor.clone().detach().requires_grad_(True), rather than torch.tensor(sourceTensor).\n",
            "  after removing the cwd from sys.path.\n"
          ]
        }
      ],
      "source": [
        "from torch.utils.data import TensorDataset, DataLoader, RandomSampler, SequentialSampler\n",
        "\n",
        "train_labels = torch.tensor(Y_train)\n",
        "val_labels = torch.tensor(Y_val)\n",
        "\n",
        "batch_size = 32\n",
        "# print(type(Y_train))\n",
        "\n",
        "train_data = TensorDataset(train_inputs, train_masks, train_labels)\n",
        "train_sampler = RandomSampler(train_data)\n",
        "train_dataloader = DataLoader(train_data, sampler=train_sampler, batch_size=batch_size)\n",
        "\n",
        "val_data = TensorDataset(val_inputs, val_masks, val_labels)\n",
        "val_sampler = SequentialSampler(val_data)\n",
        "val_dataloader = DataLoader(val_data, sampler=val_sampler, batch_size=batch_size)"
      ]
    },
    {
      "cell_type": "code",
      "execution_count": 21,
      "metadata": {
        "id": "b271-IpJ0Lg7"
      },
      "outputs": [],
      "source": [
        "import torch\n",
        "import torch.nn as nn\n",
        "from transformers import BertModel\n",
        "\n",
        "class bertClassifier(nn.Module):\n",
        "  def __init__(self, freeze_bert=False):\n",
        "    super(bertClassifier, self).__init__()\n",
        "    self.bert = BertModel.from_pretrained('bert-base-uncased')\n",
        "    IN, H, OUT = 768,50,1683\n",
        "    self.classifier = nn.Sequential(nn.Linear(IN, H),\n",
        "                                    nn.ReLU(),\n",
        "                                    nn.Dropout(0.3),\n",
        "                                    nn.Linear(H,OUT))\n",
        "    if freeze_bert:\n",
        "            for param in self.bert.parameters():\n",
        "                param.requires_grad = False\n",
        "                \n",
        "  def forward(self, inp_ids, att_masks):\n",
        "    output = self.bert(input_ids=inp_ids, attention_mask=att_masks)\n",
        "    last_hidden = output[0][:,0,:]\n",
        "    output = self.classifier(last_hidden)\n",
        "    return output"
      ]
    },
    {
      "cell_type": "code",
      "execution_count": 22,
      "metadata": {
        "id": "NEcDctujbvVf"
      },
      "outputs": [],
      "source": [
        "from transformers import AdamW, get_linear_schedule_with_warmup\n",
        "def initialize_model(epochs=4):\n",
        "  bert_classifier = bertClassifier(freeze_bert=False)\n",
        "  bert_classifier.to(device)\n",
        "  optimizer = AdamW(bert_classifier.parameters(), lr=3e-5, eps=1e-8)\n",
        "  total_steps = len(train_dataloader)*epochs\n",
        "  scheduler = get_linear_schedule_with_warmup(optimizer,num_warmup_steps=0, num_training_steps=total_steps)\n",
        "  return bert_classifier, optimizer, scheduler"
      ]
    },
    {
      "cell_type": "code",
      "execution_count": 23,
      "metadata": {
        "id": "3KGdrp1KiwoU"
      },
      "outputs": [],
      "source": [
        "import random\n",
        "import time\n",
        "\n",
        "# Specify loss function\n",
        "loss_fn = nn.CrossEntropyLoss()\n",
        "\n",
        "def set_seed(seed_value=42):\n",
        "    random.seed(seed_value)\n",
        "    np.random.seed(seed_value)\n",
        "    torch.manual_seed(seed_value)\n",
        "    torch.cuda.manual_seed_all(seed_value)\n",
        "\n",
        "def train(model, train_dataloader, val_dataloader=None, epochs=4, evaluation=False):\n",
        "    \"\"\"Train the BertClassifier model.\n",
        "    \"\"\"\n",
        "    # Start training loop\n",
        "    print(\"Start training...\\n\")\n",
        "    for epoch_i in range(epochs):\n",
        "        # =======================================\n",
        "        #               Training\n",
        "        # =======================================\n",
        "        # Print the header of the result table\n",
        "        print(f\"{'Epoch':^7} | {'Batch':^7} | {'Train Loss':^12} | {'Val Loss':^10} | {'Val Acc':^9} | {'Elapsed':^9}\")\n",
        "        print(\"-\"*70)\n",
        "\n",
        "        # Measure the elapsed time of each epoch\n",
        "        t0_epoch, t0_batch = time.time(), time.time()\n",
        "\n",
        "        # Reset tracking variables at the beginning of each epoch\n",
        "        total_loss, batch_loss, batch_counts = 0, 0, 0\n",
        "\n",
        "        # Put the model into the training mode\n",
        "        model.train()\n",
        "\n",
        "        # For each batch of training data...\n",
        "        for step, batch in enumerate(train_dataloader):\n",
        "            batch_counts +=1\n",
        "            # Load batch to GPU\n",
        "            b_input_ids, b_attn_mask, b_labels = tuple(t.to(device) for t in batch)\n",
        "\n",
        "            # Zero out any previously calculated gradients\n",
        "            model.zero_grad()\n",
        "\n",
        "            # Perform a forward pass. This will return logits.\n",
        "            logits = model(b_input_ids, b_attn_mask)\n",
        "\n",
        "            # Compute loss and accumulate the loss values\n",
        "            loss = loss_fn(logits, b_labels)\n",
        "            batch_loss += loss.item()\n",
        "            total_loss += loss.item()\n",
        "\n",
        "            # Perform a backward pass to calculate gradients\n",
        "            loss.backward()\n",
        "\n",
        "            # Clip the norm of the gradients to 1.0 to prevent \"exploding gradients\"\n",
        "            torch.nn.utils.clip_grad_norm_(model.parameters(), 1.0)\n",
        "\n",
        "            # Update parameters and the learning rate\n",
        "            optimizer.step()\n",
        "            scheduler.step()\n",
        "\n",
        "            # Print the loss values and time elapsed for every 20 batches\n",
        "            if (step % 100 == 0 and step != 0) or (step == len(train_dataloader) - 1):\n",
        "                # Calculate time elapsed for 20 batches\n",
        "                time_elapsed = time.time() - t0_batch\n",
        "\n",
        "                # Print training results\n",
        "                print(f\"{epoch_i + 1:^7} | {step:^7} | {batch_loss / batch_counts:^12.6f} | {'-':^10} | {'-':^9} | {time_elapsed:^9.2f}\")\n",
        "\n",
        "                # Reset batch tracking variables\n",
        "                batch_loss, batch_counts = 0, 0\n",
        "                t0_batch = time.time()\n",
        "\n",
        "        # Calculate the average loss over the entire training data\n",
        "        avg_train_loss = total_loss / len(train_dataloader)\n",
        "\n",
        "        print(\"-\"*70)\n",
        "        if evaluation == True:\n",
        "            # After the completion of each training epoch, measure the model's performance\n",
        "            # on our validation set.\n",
        "            val_loss, val_accuracy = evaluate(model, val_dataloader)\n",
        "\n",
        "            # Print performance over the entire training data\n",
        "            time_elapsed = time.time() - t0_epoch\n",
        "            \n",
        "            print(f\"{epoch_i + 1:^7} | {'-':^7} | {avg_train_loss:^12.6f} | {val_loss:^10.6f} | {val_accuracy:^9.2f} | {time_elapsed:^9.2f}\")\n",
        "            print(\"-\"*70)\n",
        "        print(\"\\n\")\n",
        "    \n",
        "    print(\"Training complete!\")\n",
        "\n",
        "\n",
        "def evaluate(model, val_dataloader):\n",
        "    \"\"\"After the completion of each training epoch, measure the model's performance\n",
        "    on our validation set.\n",
        "    \"\"\"\n",
        "    # Put the model into the evaluation mode. The dropout layers are disabled during\n",
        "    # the test time.\n",
        "    model.eval()\n",
        "\n",
        "    # Tracking variables\n",
        "    val_accuracy = []\n",
        "    val_loss = []\n",
        "\n",
        "    # For each batch in our validation set...\n",
        "    for batch in val_dataloader:\n",
        "\n",
        "        # Load batch to GPU\n",
        "      b_input_ids, b_attn_mask, b_labels = tuple(t.to(device) for t in batch)\n",
        "\n",
        "        # Compute logits\n",
        "      with torch.no_grad():\n",
        "        logits = model(b_input_ids, b_attn_mask)\n",
        "\n",
        "        # Compute loss\n",
        "      loss = loss_fn(logits, b_labels)\n",
        "      val_loss.append(loss.item())\n",
        "\n",
        "        # Get the predictions\n",
        "      preds = torch.argmax(logits, dim=1).flatten()\n",
        "\n",
        "        # Calculate the accuracy rate\n",
        "      accuracy = (preds == b_labels).cpu().numpy().mean() * 100\n",
        "      val_accuracy.append(accuracy)\n",
        "\n",
        "    # Compute the average accuracy and loss over the validation set.\n",
        "    val_loss = np.mean(val_loss)\n",
        "    val_accuracy = np.mean(val_accuracy)\n",
        "\n",
        "    return val_loss, val_accuracy"
      ]
    },
    {
      "cell_type": "code",
      "execution_count": 24,
      "metadata": {
        "colab": {
          "base_uri": "https://localhost:8080/"
        },
        "id": "YhCg9hxkj1_p",
        "outputId": "2d0a5b93-a80f-4128-9ca4-2d6692136150"
      },
      "outputs": [
        {
          "output_type": "stream",
          "name": "stderr",
          "text": [
            "Some weights of the model checkpoint at bert-base-uncased were not used when initializing BertModel: ['cls.predictions.transform.LayerNorm.bias', 'cls.predictions.bias', 'cls.seq_relationship.weight', 'cls.predictions.transform.dense.weight', 'cls.seq_relationship.bias', 'cls.predictions.transform.LayerNorm.weight', 'cls.predictions.transform.dense.bias', 'cls.predictions.decoder.weight']\n",
            "- This IS expected if you are initializing BertModel from the checkpoint of a model trained on another task or with another architecture (e.g. initializing a BertForSequenceClassification model from a BertForPreTraining model).\n",
            "- This IS NOT expected if you are initializing BertModel from the checkpoint of a model that you expect to be exactly identical (initializing a BertForSequenceClassification model from a BertForSequenceClassification model).\n"
          ]
        },
        {
          "output_type": "stream",
          "name": "stdout",
          "text": [
            "Start training...\n",
            "\n",
            " Epoch  |  Batch  |  Train Loss  |  Val Loss  |  Val Acc  |  Elapsed \n",
            "----------------------------------------------------------------------\n",
            "   1    |   100   |   6.861675   |     -      |     -     |  190.55  \n",
            "   1    |   200   |   6.018247   |     -      |     -     |  187.62  \n",
            "   1    |   300   |   5.501185   |     -      |     -     |  187.46  \n",
            "   1    |   400   |   5.295113   |     -      |     -     |  187.58  \n",
            "   1    |   500   |   5.015743   |     -      |     -     |  187.56  \n",
            "   1    |   513   |   5.056369   |     -      |     -     |   23.15  \n",
            "----------------------------------------------------------------------\n",
            "   1    |    -    |   5.723328   |  4.564007  |   39.06   |  1004.97 \n",
            "----------------------------------------------------------------------\n",
            "\n",
            "\n",
            " Epoch  |  Batch  |  Train Loss  |  Val Loss  |  Val Acc  |  Elapsed \n",
            "----------------------------------------------------------------------\n",
            "   2    |   100   |   4.741770   |     -      |     -     |  189.57  \n",
            "   2    |   200   |   4.497851   |     -      |     -     |  187.23  \n",
            "   2    |   300   |   4.422115   |     -      |     -     |  187.14  \n",
            "   2    |   400   |   4.301470   |     -      |     -     |  187.19  \n",
            "   2    |   500   |   4.252689   |     -      |     -     |  186.48  \n",
            "   2    |   513   |   4.378668   |     -      |     -     |   22.98  \n",
            "----------------------------------------------------------------------\n",
            "   2    |    -    |   4.442128   |  4.018861  |   44.40   |  1001.46 \n",
            "----------------------------------------------------------------------\n",
            "\n",
            "\n",
            " Epoch  |  Batch  |  Train Loss  |  Val Loss  |  Val Acc  |  Elapsed \n",
            "----------------------------------------------------------------------\n",
            "   3    |   100   |   4.053581   |     -      |     -     |  188.07  \n",
            "   3    |   200   |   4.068390   |     -      |     -     |  186.40  \n",
            "   3    |   300   |   3.961932   |     -      |     -     |  186.35  \n",
            "   3    |   400   |   3.916921   |     -      |     -     |  186.24  \n",
            "   3    |   500   |   3.875407   |     -      |     -     |  186.23  \n",
            "   3    |   513   |   3.758542   |     -      |     -     |   22.99  \n",
            "----------------------------------------------------------------------\n",
            "   3    |    -    |   3.969918   |  3.807789  |   45.15   |  997.11  \n",
            "----------------------------------------------------------------------\n",
            "\n",
            "\n",
            " Epoch  |  Batch  |  Train Loss  |  Val Loss  |  Val Acc  |  Elapsed \n",
            "----------------------------------------------------------------------\n",
            "   4    |   100   |   3.889291   |     -      |     -     |  188.14  \n",
            "   4    |   200   |   3.719150   |     -      |     -     |  186.20  \n",
            "   4    |   300   |   3.719722   |     -      |     -     |  187.34  \n",
            "   4    |   400   |   3.776616   |     -      |     -     |  187.82  \n",
            "   4    |   500   |   3.677925   |     -      |     -     |  188.32  \n",
            "   4    |   513   |   3.625376   |     -      |     -     |   23.19  \n",
            "----------------------------------------------------------------------\n",
            "   4    |    -    |   3.753482   |  3.756318  |   45.15   |  1002.20 \n",
            "----------------------------------------------------------------------\n",
            "\n",
            "\n",
            "Training complete!\n"
          ]
        }
      ],
      "source": [
        "set_seed(60)    \n",
        "bert_classifier, optimizer, scheduler = initialize_model(epochs=4)\n",
        "train(bert_classifier, train_dataloader, val_dataloader, epochs=4, evaluation=True)"
      ]
    },
    {
      "cell_type": "code",
      "execution_count": 26,
      "metadata": {
        "id": "ieG0d4cLj59I"
      },
      "outputs": [],
      "source": [
        "import torch.nn.functional as F\n",
        "\n",
        "def bert_predict(model, test_dataloader):\n",
        "    \n",
        "    model.eval()\n",
        "    all_logits = []\n",
        "\n",
        "    # For each batch in our test set...\n",
        "    for batch in test_dataloader:\n",
        "        # Load batch to GPU\n",
        "        b_input_ids, b_attn_mask = tuple(t.to(device)\n",
        "         for t in batch)[:2]\n",
        "        # Compute logits\n",
        "        with torch.no_grad():\n",
        "            logits = model(b_input_ids, b_attn_mask)\n",
        "        all_logits.append(logits)\n",
        "    \n",
        "    # Concatenate logits from each batch\n",
        "    all_logits = torch.cat(all_logits, dim=0)\n",
        "\n",
        "    # Apply softmax to calculate probabilities\n",
        "    probs = F.softmax(all_logits, dim=1).cpu().numpy()\n",
        "\n",
        "    return probs"
      ]
    },
    {
      "cell_type": "code",
      "execution_count": 27,
      "metadata": {
        "id": "t5Wd4LTH1vJN"
      },
      "outputs": [],
      "source": [
        "pred = bert_predict(bert_classifier, val_dataloader)"
      ]
    },
    {
      "cell_type": "code",
      "execution_count": 28,
      "metadata": {
        "id": "MY9Uf-kMRNLK",
        "colab": {
          "base_uri": "https://localhost:8080/"
        },
        "outputId": "6b1328f5-1f42-41ee-e799-7f63bdf77ff7"
      },
      "outputs": [
        {
          "output_type": "execute_result",
          "data": {
            "text/plain": [
              "0.45071193866374587"
            ]
          },
          "metadata": {},
          "execution_count": 28
        }
      ],
      "source": [
        "from sklearn.metrics import accuracy_score\n",
        "y_pred=np.argmax(pred, axis=1)\n",
        "accuracy_score(val_labels, y_pred)"
      ]
    },
    {
      "cell_type": "code",
      "source": [
        "from sklearn.metrics import multilabel_confusion_matrix\n",
        "multilabel_confusion_matrix(val_labels, y_pred)"
      ],
      "metadata": {
        "colab": {
          "base_uri": "https://localhost:8080/"
        },
        "id": "xRFPvSywoAl1",
        "outputId": "c5f488f9-92ca-438b-c83a-ed3e74a28813"
      },
      "execution_count": 30,
      "outputs": [
        {
          "output_type": "execute_result",
          "data": {
            "text/plain": [
              "array([[[1825,    0],\n",
              "        [   1,    0]],\n",
              "\n",
              "       [[1731,    6],\n",
              "        [  89,    0]],\n",
              "\n",
              "       [[1621,   11],\n",
              "        [   3,  191]],\n",
              "\n",
              "       ...,\n",
              "\n",
              "       [[1825,    0],\n",
              "        [   1,    0]],\n",
              "\n",
              "       [[1825,    0],\n",
              "        [   1,    0]],\n",
              "\n",
              "       [[1825,    0],\n",
              "        [   1,    0]]])"
            ]
          },
          "metadata": {},
          "execution_count": 30
        }
      ]
    },
    {
      "cell_type": "code",
      "execution_count": 29,
      "metadata": {
        "id": "5a7zmQqXuSmz",
        "colab": {
          "base_uri": "https://localhost:8080/"
        },
        "outputId": "f1800508-90a8-4958-bc87-139565355964"
      },
      "outputs": [
        {
          "output_type": "stream",
          "name": "stderr",
          "text": [
            "Some weights of the model checkpoint at bert-base-uncased were not used when initializing BertModel: ['cls.predictions.transform.LayerNorm.bias', 'cls.predictions.bias', 'cls.seq_relationship.weight', 'cls.predictions.transform.dense.weight', 'cls.seq_relationship.bias', 'cls.predictions.transform.LayerNorm.weight', 'cls.predictions.transform.dense.bias', 'cls.predictions.decoder.weight']\n",
            "- This IS expected if you are initializing BertModel from the checkpoint of a model trained on another task or with another architecture (e.g. initializing a BertForSequenceClassification model from a BertForPreTraining model).\n",
            "- This IS NOT expected if you are initializing BertModel from the checkpoint of a model that you expect to be exactly identical (initializing a BertForSequenceClassification model from a BertForSequenceClassification model).\n"
          ]
        },
        {
          "output_type": "stream",
          "name": "stdout",
          "text": [
            "Start training...\n",
            "\n",
            " Epoch  |  Batch  |  Train Loss  |  Val Loss  |  Val Acc  |  Elapsed \n",
            "----------------------------------------------------------------------\n",
            "   1    |   100   |   6.789696   |     -      |     -     |  189.92  \n",
            "   1    |   200   |   5.930282   |     -      |     -     |  188.09  \n",
            "   1    |   300   |   5.659377   |     -      |     -     |  187.10  \n",
            "   1    |   400   |   5.279056   |     -      |     -     |  186.22  \n",
            "   1    |   500   |   5.014102   |     -      |     -     |  186.08  \n",
            "   1    |   570   |   4.876880   |     -      |     -     |  129.19  \n",
            "----------------------------------------------------------------------\n",
            "\n",
            "\n",
            " Epoch  |  Batch  |  Train Loss  |  Val Loss  |  Val Acc  |  Elapsed \n",
            "----------------------------------------------------------------------\n",
            "   2    |   100   |   4.528836   |     -      |     -     |  188.12  \n",
            "   2    |   200   |   4.505656   |     -      |     -     |  186.11  \n",
            "   2    |   300   |   4.413540   |     -      |     -     |  186.13  \n",
            "   2    |   400   |   4.310390   |     -      |     -     |  186.16  \n",
            "   2    |   500   |   4.265452   |     -      |     -     |  186.07  \n",
            "   2    |   570   |   4.137380   |     -      |     -     |  129.11  \n",
            "----------------------------------------------------------------------\n",
            "\n",
            "\n",
            " Epoch  |  Batch  |  Train Loss  |  Val Loss  |  Val Acc  |  Elapsed \n",
            "----------------------------------------------------------------------\n",
            "   3    |   100   |   4.012961   |     -      |     -     |  188.00  \n",
            "   3    |   200   |   3.942799   |     -      |     -     |  186.21  \n",
            "   3    |   300   |   3.924485   |     -      |     -     |  186.24  \n",
            "   3    |   400   |   3.952140   |     -      |     -     |  186.45  \n",
            "   3    |   500   |   3.877895   |     -      |     -     |  186.79  \n",
            "   3    |   570   |   3.810835   |     -      |     -     |  129.85  \n",
            "----------------------------------------------------------------------\n",
            "\n",
            "\n",
            " Epoch  |  Batch  |  Train Loss  |  Val Loss  |  Val Acc  |  Elapsed \n",
            "----------------------------------------------------------------------\n",
            "   4    |   100   |   3.759991   |     -      |     -     |  189.24  \n",
            "   4    |   200   |   3.769830   |     -      |     -     |  186.90  \n",
            "   4    |   300   |   3.717899   |     -      |     -     |  186.59  \n",
            "   4    |   400   |   3.798297   |     -      |     -     |  186.21  \n",
            "   4    |   500   |   3.757472   |     -      |     -     |  186.12  \n",
            "   4    |   570   |   3.781011   |     -      |     -     |  129.24  \n",
            "----------------------------------------------------------------------\n",
            "\n",
            "\n",
            "Training complete!\n"
          ]
        }
      ],
      "source": [
        "# Concatenate the train set and the validation set\n",
        "full_train_data = torch.utils.data.ConcatDataset([train_data, val_data])\n",
        "full_train_sampler = RandomSampler(full_train_data)\n",
        "full_train_dataloader = DataLoader(full_train_data, sampler=full_train_sampler, batch_size=32)\n",
        "\n",
        "# Train the Bert Classifier on the entire training data\n",
        "set_seed(75)\n",
        "bert_classifier, optimizer, scheduler = initialize_model(epochs=4)\n",
        "train(bert_classifier, full_train_dataloader, epochs=4)"
      ]
    },
    {
      "cell_type": "code",
      "source": [
        "test_inputs, test_masks = preprocessing_for_bert(df_test.question)\n",
        "\n",
        "# Create the DataLoader for our test set\n",
        "test_data = TensorDataset(test_inputs, test_masks)\n",
        "test_sample = SequentialSampler(test_data)\n",
        "test_dataloader = DataLoader(test_data, sampler=test_sample, batch_size=32)"
      ],
      "metadata": {
        "id": "B1JlaVJ6mIhc"
      },
      "execution_count": 33,
      "outputs": []
    },
    {
      "cell_type": "code",
      "source": [
        "probs = bert_predict(bert_classifier, test_dataloader)\n",
        "\n",
        "# Get predictions from the probabilities\n",
        "threshold = 0.1\n",
        "preds = np.where(probs[:, 1] > threshold, 1, 0)\n",
        "\n",
        "# Number of tweets predicted non-negative\n",
        "print(\"Number of tweets predicted non-negative: \", preds.sum())"
      ],
      "metadata": {
        "colab": {
          "base_uri": "https://localhost:8080/"
        },
        "id": "hamNiY-FsiHO",
        "outputId": "68facbe9-7c3b-4fa0-b1c2-9eb4b7726a7e"
      },
      "execution_count": 36,
      "outputs": [
        {
          "output_type": "stream",
          "name": "stdout",
          "text": [
            "Number of tweets predicted non-negative:  0\n"
          ]
        }
      ]
    },
    {
      "cell_type": "code",
      "source": [
        ""
      ],
      "metadata": {
        "id": "IFhySDrcwPxb"
      },
      "execution_count": null,
      "outputs": []
    }
  ],
  "metadata": {
    "accelerator": "GPU",
    "colab": {
      "collapsed_sections": [],
      "name": "QA Type BERT.ipynb",
      "provenance": [],
      "include_colab_link": true
    },
    "kernelspec": {
      "display_name": "Python 3",
      "name": "python3"
    },
    "language_info": {
      "name": "python"
    }
  },
  "nbformat": 4,
  "nbformat_minor": 0
}